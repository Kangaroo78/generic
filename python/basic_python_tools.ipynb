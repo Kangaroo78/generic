{
  "nbformat": 4,
  "nbformat_minor": 0,
  "metadata": {
    "colab": {
      "name": "Untitled62.ipynb",
      "provenance": []
    },
    "kernelspec": {
      "name": "python3",
      "display_name": "Python 3"
    },
    "language_info": {
      "name": "python"
    }
  },
  "cells": [
    {
      "cell_type": "markdown",
      "source": [
        "# File listing\n",
        "\n",
        "Function that takes a filepath, suffix and flag for inclduing pathname in file and returns a file list"
      ],
      "metadata": {
        "id": "ablux2ieDB8i"
      }
    },
    {
      "cell_type": "code",
      "source": [
        "import os\n",
        "\n",
        "\n",
        "def list_files(file_path, suffix_filter=\"\", file_name_and_path=True): \n",
        "  file_arr = os.listdir(file_path)\n",
        "  file_list  =[]\n",
        "\n",
        "  for file in file_arr:\n",
        "    if suffix_filter:\n",
        "      if file[-3:] == suffix_filter:\n",
        "        file_list.append(file)\n",
        "\n",
        "  return file_list \n"
      ],
      "metadata": {
        "id": "w_tIA4qYDddt"
      },
      "execution_count": 6,
      "outputs": []
    },
    {
      "cell_type": "code",
      "source": [
        "my_files = list_files('drive/MyDrive/Data_Science/Data/Rainfall/',\"csv\")\n",
        "\n",
        "print(my_files)"
      ],
      "metadata": {
        "colab": {
          "base_uri": "https://localhost:8080/"
        },
        "id": "APGdP5gEHIuf",
        "outputId": "86132d65-4dbd-4548-9767-2789d746d10c"
      },
      "execution_count": 8,
      "outputs": [
        {
          "output_type": "stream",
          "name": "stdout",
          "text": [
            "['uk_rainfall_1994.csv', 'uk_rainfall_1995.csv', 'uk_rainfall_1996.csv', 'uk_rainfall_1997.csv', 'uk_rainfall_1998.csv', 'uk_rainfall_1999.csv', 'uk_rainfall_2000.csv', 'uk_rainfall_2001.csv', 'uk_rainfall_2002.csv', 'uk_rainfall_2003.csv', 'uk_rainfall_2004.csv', 'uk_rainfall_2005.csv', 'uk_rainfall_2006.csv', 'uk_rainfall_2007.csv', 'uk_rainfall_2008.csv', 'uk_rainfall_2009.csv', 'uk_rainfall_2010.csv', 'uk_rainfall_2011.csv', 'uk_rainfall_2012.csv', 'uk_rainfall_2013.csv', 'uk_rainfall_2014.csv', 'uk_rainfall_2015.csv', 'uk_rainfall_2016.csv', 'uk_rainfall_2017.csv', 'uk_rainfall_2018.csv', 'uk_rainfall_2019.csv', 'uk_rainfall_final.csv']\n"
          ]
        }
      ]
    }
  ]
}