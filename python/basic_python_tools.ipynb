{
  "cells": [
    {
      "cell_type": "markdown",
      "metadata": {
        "id": "ablux2ieDB8i"
      },
      "source": [
        "# File listing\n",
        "\n",
        "Function that takes a filepath, suffix and flag for including pathname in file and returns a file list"
      ]
    },
    {
      "cell_type": "code",
      "execution_count": 6,
      "metadata": {
        "id": "w_tIA4qYDddt"
      },
      "outputs": [],
      "source": [
        "import os\n",
        "\n",
        "\n",
        "def list_files(file_path, suffix_filter=\"\", file_name_and_path=True, include_directories=False, recursive=False): \n",
        "  \"\"\"\n",
        "   \n",
        "  \"\"\"\n",
        "  def _add_to_output_list(directory_item):\n",
        "    if file_name_and_path:\n",
        "      file_list.append(root+'/'+directory_item)\n",
        "    else:\n",
        "      file_list.append(directory_item) \n",
        "\n",
        "  file_list  =[]\n",
        "\n",
        "\n",
        "\n",
        "  for root, dirs, files in os.walk(file_path):\n",
        "    for file in files:\n",
        "      if suffix_filter:\n",
        "        if file[-3:] == suffix_filter:\n",
        "          _add_to_output_list(file)\n",
        "      else:\n",
        "        _add_to_output_list(file)\n",
        "\n",
        "    if include_directories:\n",
        "      for dir in dirs:\n",
        "          _add_to_output_list(dir)\n",
        "   \n",
        "    if not recursive:\n",
        "      break\n",
        "        \n",
        "  return file_list \n"
      ]
    },
    {
      "cell_type": "code",
      "execution_count": 8,
      "metadata": {
        "colab": {
          "base_uri": "https://localhost:8080/"
        },
        "id": "APGdP5gEHIuf",
        "outputId": "86132d65-4dbd-4548-9767-2789d746d10c"
      },
      "outputs": [
        {
          "name": "stdout",
          "output_type": "stream",
          "text": [
            "['uk_rainfall_1994.csv', 'uk_rainfall_1995.csv', 'uk_rainfall_1996.csv', 'uk_rainfall_1997.csv', 'uk_rainfall_1998.csv', 'uk_rainfall_1999.csv', 'uk_rainfall_2000.csv', 'uk_rainfall_2001.csv', 'uk_rainfall_2002.csv', 'uk_rainfall_2003.csv', 'uk_rainfall_2004.csv', 'uk_rainfall_2005.csv', 'uk_rainfall_2006.csv', 'uk_rainfall_2007.csv', 'uk_rainfall_2008.csv', 'uk_rainfall_2009.csv', 'uk_rainfall_2010.csv', 'uk_rainfall_2011.csv', 'uk_rainfall_2012.csv', 'uk_rainfall_2013.csv', 'uk_rainfall_2014.csv', 'uk_rainfall_2015.csv', 'uk_rainfall_2016.csv', 'uk_rainfall_2017.csv', 'uk_rainfall_2018.csv', 'uk_rainfall_2019.csv', 'uk_rainfall_final.csv']\n"
          ]
        }
      ],
      "source": [
        "my_files = list_files('drive/MyDrive/Data_Science/Data/Rainfall/',\"csv\")\n",
        "\n",
        "print(my_files)"
      ]
    }
  ],
  "metadata": {
    "colab": {
      "name": "Untitled62.ipynb",
      "provenance": []
    },
    "kernelspec": {
      "display_name": "Python 3.7.3 64-bit",
      "language": "python",
      "name": "python3"
    },
    "language_info": {
      "name": "python",
      "version": "3.7.3"
    },
    "vscode": {
      "interpreter": {
        "hash": "55bf899e6b440e66a25e41252b3c12bdd4082e94d4ed98a9afa3e14c457a3fd2"
      }
    }
  },
  "nbformat": 4,
  "nbformat_minor": 0
}
